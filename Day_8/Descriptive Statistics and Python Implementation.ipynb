{
 "cells": [
  {
   "cell_type": "markdown",
   "metadata": {},
   "source": [
    "# Descriptive Statistics and Python Implementation\n"
   ]
  },
  {
   "cell_type": "code",
   "execution_count": 1,
   "metadata": {},
   "outputs": [],
   "source": [
    "import pandas as pd\n",
    "import numpy as np"
   ]
  },
  {
   "cell_type": "code",
   "execution_count": 2,
   "metadata": {
    "scrolled": true
   },
   "outputs": [
    {
     "data": {
      "text/html": [
       "<div>\n",
       "<style scoped>\n",
       "    .dataframe tbody tr th:only-of-type {\n",
       "        vertical-align: middle;\n",
       "    }\n",
       "\n",
       "    .dataframe tbody tr th {\n",
       "        vertical-align: top;\n",
       "    }\n",
       "\n",
       "    .dataframe thead th {\n",
       "        text-align: right;\n",
       "    }\n",
       "</style>\n",
       "<table border=\"1\" class=\"dataframe\">\n",
       "  <thead>\n",
       "    <tr style=\"text-align: right;\">\n",
       "      <th></th>\n",
       "      <th>Mthly_HH_Income</th>\n",
       "      <th>Mthly_HH_Expense</th>\n",
       "      <th>No_of_Fly_Members</th>\n",
       "      <th>Emi_or_Rent_Amt</th>\n",
       "      <th>Annual_HH_Income</th>\n",
       "      <th>Highest_Qualified_Member</th>\n",
       "      <th>No_of_Earning_Members</th>\n",
       "    </tr>\n",
       "  </thead>\n",
       "  <tbody>\n",
       "    <tr>\n",
       "      <th>0</th>\n",
       "      <td>5000</td>\n",
       "      <td>8000</td>\n",
       "      <td>3</td>\n",
       "      <td>2000</td>\n",
       "      <td>64200</td>\n",
       "      <td>Under-Graduate</td>\n",
       "      <td>1</td>\n",
       "    </tr>\n",
       "    <tr>\n",
       "      <th>1</th>\n",
       "      <td>6000</td>\n",
       "      <td>7000</td>\n",
       "      <td>2</td>\n",
       "      <td>3000</td>\n",
       "      <td>79920</td>\n",
       "      <td>Illiterate</td>\n",
       "      <td>1</td>\n",
       "    </tr>\n",
       "    <tr>\n",
       "      <th>2</th>\n",
       "      <td>10000</td>\n",
       "      <td>4500</td>\n",
       "      <td>2</td>\n",
       "      <td>0</td>\n",
       "      <td>112800</td>\n",
       "      <td>Under-Graduate</td>\n",
       "      <td>1</td>\n",
       "    </tr>\n",
       "    <tr>\n",
       "      <th>3</th>\n",
       "      <td>10000</td>\n",
       "      <td>2000</td>\n",
       "      <td>1</td>\n",
       "      <td>0</td>\n",
       "      <td>97200</td>\n",
       "      <td>Illiterate</td>\n",
       "      <td>1</td>\n",
       "    </tr>\n",
       "    <tr>\n",
       "      <th>4</th>\n",
       "      <td>12500</td>\n",
       "      <td>12000</td>\n",
       "      <td>2</td>\n",
       "      <td>3000</td>\n",
       "      <td>147000</td>\n",
       "      <td>Graduate</td>\n",
       "      <td>1</td>\n",
       "    </tr>\n",
       "  </tbody>\n",
       "</table>\n",
       "</div>"
      ],
      "text/plain": [
       "   Mthly_HH_Income  Mthly_HH_Expense  No_of_Fly_Members  Emi_or_Rent_Amt  \\\n",
       "0             5000              8000                  3             2000   \n",
       "1             6000              7000                  2             3000   \n",
       "2            10000              4500                  2                0   \n",
       "3            10000              2000                  1                0   \n",
       "4            12500             12000                  2             3000   \n",
       "\n",
       "   Annual_HH_Income Highest_Qualified_Member  No_of_Earning_Members  \n",
       "0             64200           Under-Graduate                      1  \n",
       "1             79920               Illiterate                      1  \n",
       "2            112800           Under-Graduate                      1  \n",
       "3             97200               Illiterate                      1  \n",
       "4            147000                 Graduate                      1  "
      ]
     },
     "execution_count": 2,
     "metadata": {},
     "output_type": "execute_result"
    }
   ],
   "source": [
    "df = pd.read_csv(r'data.csv')\n",
    "df.head()"
   ]
  },
  {
   "cell_type": "markdown",
   "metadata": {},
   "source": [
    "## Mean:\n",
    "\n",
    "- **Arithmetic mean** is the total of the sum of all values in a collection of numbers divided by the number of numbers in a collection.\n",
    "\n",
    "#### Formula:\n",
    "\n",
    " \n",
    " $ Mean(\\mu) = \\frac {\\sum_{i=0}^{N} x_{i}}{N}$\n",
    "  \n",
    "\n",
    "Where \n",
    "\n",
    "**N = Total number of obsevations.**\n",
    "\n",
    "**$x_{i}$ = $i^{th}$ element.**\n"
   ]
  },
  {
   "cell_type": "code",
   "execution_count": 3,
   "metadata": {},
   "outputs": [
    {
     "name": "stdout",
     "output_type": "stream",
     "text": [
      "Mean of Mthly_HH_Income  =   41558.0\n",
      "Mean of Mthly_HH_Expense  =   18818.0\n",
      "Mean of No_of_Fly_Members  =   4.06\n",
      "Mean of Emi_or_Rent_Amt  =   3060.0\n",
      "Mean of Annual_HH_Income  =   490019.04\n",
      "Mean of No_of_Earning_Members  =   1.46\n"
     ]
    }
   ],
   "source": [
    "## Python Implementation of mean.\n",
    "for i in df.columns:\n",
    "    if df[i].dtypes !='O':\n",
    "        count = 0\n",
    "        sum = 0\n",
    "        for j in df[i]:\n",
    "            sum+=j\n",
    "            count+=1\n",
    "        b = sum/count\n",
    "        print(\"Mean of\",i,\" =  \",sum/count)"
   ]
  },
  {
   "cell_type": "markdown",
   "metadata": {},
   "source": [
    "## Median:\n",
    "\n",
    "- **The median** of a set of data is the middlemost number or center value in the set. The median is also the number that is halfway into the set.\n",
    "\n",
    "#### Formula:\n",
    "$$\n",
    "Median = \\left\\{\n",
    "    \\begin{array}\\\\\n",
    "        X[\\frac {n+1}{2}] & \\mbox{if } \\ n \\ is \\ Odd \\\\\n",
    "        \\frac {X[n/2]+X[(n/2)+1]}{2} & \\mbox{if } \\ n \\ is\\  Even  \\\\\n",
    "    \\end{array}\n",
    "\\right.\n",
    "$$\n",
    "\n",
    "Where    \n",
    "**_n = no. of elements_**"
   ]
  },
  {
   "cell_type": "code",
   "execution_count": 4,
   "metadata": {
    "scrolled": true
   },
   "outputs": [
    {
     "name": "stdout",
     "output_type": "stream",
     "text": [
      "Median of  Mthly_HH_Income  =  35000.0\n",
      "Median of  Mthly_HH_Expense  =  15500.0\n",
      "Median of  No_of_Fly_Members  =  4.0\n",
      "Median of  Emi_or_Rent_Amt  =  0.0\n",
      "Median of  Annual_HH_Income  =  447420.0\n",
      "Median of  No_of_Earning_Members  =  1.0\n"
     ]
    }
   ],
   "source": [
    "for i in df.columns:\n",
    "    \n",
    "    if df[i].dtypes !='O':\n",
    "\n",
    "        n=len(df[i])\n",
    "        list1= sorted(df[i])\n",
    "        if n%2 !=0 :\n",
    "            median = list1((n-1)//2)\n",
    "        if n%2 ==0:\n",
    "            median =  (list1[(n//2)]+list1[((n-1)//2)])/2\n",
    "\n",
    "        print(\"Median of \", i ,\" = \", median)\n"
   ]
  },
  {
   "cell_type": "markdown",
   "metadata": {},
   "source": [
    "## Mode:\n",
    "\n",
    "- **The mode** is the value that appears most frequently in a data set. A set of data may have one mode, more than one mode, or no mode at all. Other popular measures of central tendency include the mean, or the average of a set, and the median, the middle value in a set."
   ]
  },
  {
   "cell_type": "code",
   "execution_count": 5,
   "metadata": {},
   "outputs": [],
   "source": [
    "# for i in df.columns:\n",
    "#for i in df['Highest_Qualified_Member']:\n",
    " #   d = dict()\n",
    "  #  count = 0\n",
    "   # if i not in d.keys():\n",
    "    #    d[i]=count\n",
    "     #   if i in d.keys():\n",
    "      #      d[i]=count+1\n",
    "    #print (d)"
   ]
  },
  {
   "cell_type": "markdown",
   "metadata": {},
   "source": []
  },
  {
   "cell_type": "code",
   "execution_count": 6,
   "metadata": {},
   "outputs": [
    {
     "name": "stdout",
     "output_type": "stream",
     "text": [
      "Mode of  Mthly_HH_Income =  45000\n",
      "Mode of  Mthly_HH_Expense =  25000\n",
      "Mode of  No_of_Fly_Members =  4\n",
      "Mode of  Emi_or_Rent_Amt =  0\n",
      "Mode of  Annual_HH_Income =  590400\n",
      "Mode of  Highest_Qualified_Member =  Graduate\n",
      "Mode of  No_of_Earning_Members =  1\n"
     ]
    }
   ],
   "source": [
    "for i in df.columns:\n",
    "\n",
    "    k = dict(df[i].value_counts()).keys()\n",
    "    l = list(k)\n",
    "    print(\"Mode of \", i , \"= \", l[0])"
   ]
  },
  {
   "cell_type": "markdown",
   "metadata": {},
   "source": [
    "## Variance:   \n",
    "\n",
    "-The term **variance** refers to a statistical measurement of the spread between numbers in a data set. More specifically, variance measures how far each number in the set is from the mean and thus from every other number in the set. Variance is often depicted by this symbol: $σ^2$\n",
    "\n",
    "#### Formula:\n",
    "\n",
    " $$\n",
    " Variance(\\sigma^2) = \\frac {\\sum_{i=0}^{N} (x_{i} - \\bar{x})^2}{n-1}\n",
    " $$\n",
    "\n",
    "Where   \n",
    "**N = Total No. of Datapoints   \n",
    "$x_{i} = i^{th}$ Datapoints   \n",
    "$\\bar{x}$ = Mean**\n"
   ]
  },
  {
   "cell_type": "code",
   "execution_count": 7,
   "metadata": {},
   "outputs": [
    {
     "name": "stdout",
     "output_type": "stream",
     "text": [
      "Variance of  Mthly_HH_Income =  681100853.0612245\n",
      "Variance of  Mthly_HH_Expense =  146173342.85714287\n",
      "Variance of  No_of_Fly_Members =  2.302448979591837\n",
      "Variance of  Emi_or_Rent_Amt =  38955510.20408163\n",
      "Variance of  Annual_HH_Income =  102486925397.91666\n",
      "Variance of  No_of_Earning_Members =  0.5391836734693878\n"
     ]
    }
   ],
   "source": [
    "for i in df.columns:\n",
    "    if df[i].dtypes != 'O':\n",
    "        a= df[i].mean()\n",
    "        n = 0\n",
    "        for j in df[i]:\n",
    "            n = (j-a)**2+n\n",
    "        var = n/(len(df[i])-1)\n",
    "        print(\"Variance of \",i,\"= \", var)\n",
    "            "
   ]
  },
  {
   "cell_type": "code",
   "execution_count": 8,
   "metadata": {},
   "outputs": [
    {
     "name": "stdout",
     "output_type": "stream",
     "text": [
      "681100853.0612245\n",
      "146173342.85714287\n",
      "2.302448979591837\n",
      "38955510.20408163\n",
      "102486925397.91666\n",
      "0.5391836734693878\n"
     ]
    }
   ],
   "source": [
    "for i in df.columns:\n",
    "    if df[i].dtypes != 'O':\n",
    "        print(df[i].var())"
   ]
  },
  {
   "cell_type": "markdown",
   "metadata": {},
   "source": [
    "## Standard Deviation\n",
    "\n",
    "**Standard deviation** is the measure of dispersion of a set of data from its mean. It measures the absolute variability of a distribution; the higher the dispersion or variability, the greater is the standard deviation and greater will be the magnitude of the deviation of the value from their mean.\n",
    "\n",
    "\n",
    "#### Formula:\n",
    "\n",
    " $$\n",
    " Standard Deviation(\\sigma) =\\sqrt{ \\frac {\\sum_{i=0}^{N} (x_{i} - \\bar{x})^2}{n-1}}\n",
    " $$\n",
    "\n",
    "Where   \n",
    "**_n = Total No. of Datapoints   \n",
    "$x_{i} = i^{th}$ Datapoint   \n",
    "$\\bar{x}$ = Mean_**"
   ]
  },
  {
   "cell_type": "code",
   "execution_count": 9,
   "metadata": {},
   "outputs": [
    {
     "name": "stdout",
     "output_type": "stream",
     "text": [
      "Standard Deviation of  Mthly_HH_Income =  26097.908978713687\n",
      "Standard Deviation of  Mthly_HH_Expense =  12090.216824240286\n",
      "Standard Deviation of  No_of_Fly_Members =  1.5173822786601394\n",
      "Standard Deviation of  Emi_or_Rent_Amt =  6241.434947516607\n",
      "Standard Deviation of  Annual_HH_Income =  320135.79212252516\n",
      "Standard Deviation of  No_of_Earning_Members =  0.7342912729083656\n"
     ]
    }
   ],
   "source": [
    "for i in df.columns:\n",
    "    if df[i].dtypes != 'O':\n",
    "        a= df[i].mean()\n",
    "        n = 0\n",
    "        for j in df[i]:\n",
    "            n = (j-a)**2+n\n",
    "        var = n/(len(df[i])-1)\n",
    "        std = var**0.5\n",
    "        print(\"Standard Deviation of \",i,\"= \", std)\n",
    "            "
   ]
  },
  {
   "cell_type": "code",
   "execution_count": 10,
   "metadata": {},
   "outputs": [
    {
     "name": "stdout",
     "output_type": "stream",
     "text": [
      "26097.908978713687\n",
      "12090.216824240286\n",
      "1.5173822786601394\n",
      "6241.434947516607\n",
      "320135.79212252516\n",
      "0.7342912729083656\n"
     ]
    }
   ],
   "source": [
    "for i in df.columns:\n",
    "    if df[i].dtypes != 'O':\n",
    "        print(df[i].std())"
   ]
  },
  {
   "cell_type": "markdown",
   "metadata": {},
   "source": [
    "## Correlation:\n",
    "**Correlation*** means association - more precisely it is a measure of the extent to which two variables are related. There are three possible results of a correlational study: a positive correlation, a negative correlation, and no correlation.\n",
    "\n",
    "\n",
    "A **positive correlation** is a relationship between two variables in which both variables move in the same direction. Therefore, when one variable increases as the other variable increases, or one variable decreases while the other decreases. An example of positive correlation would be height and weight. Taller people tend to be heavier.\n",
    "\n",
    "A **negative correlation** is a relationship between two variables in which an increase in one variable is associated with a decrease in the other. An example of negative correlation would be height above sea level and temperature. As you climb the mountain (increase in height) it gets colder (decrease in temperature).\n",
    "\n",
    "A **zero correlation** exists when there is no relationship between two variables. For example there is no relationship between the amount of tea drunk and level of intelligence.\n",
    "\n",
    "\n",
    "#### Formula:\n",
    "\n",
    "$$\n",
    " Correlation(r_{xy}) = \\frac {\\sum_{i=0}^{N} (x_{i} - \\bar{x})(y_{i} - \\bar{y})}{\\sqrt{\\sum_{i=0}^{N} (x_{i} - \\bar{x})^2  (y_{i} - \\bar{y})^2}}\n",
    "$$\n",
    "\n",
    "***Where***\n",
    "\n",
    "**_N = Total No. of Datapoints   \n",
    "$x_{i} = i^{th}$ Datapoint in column x.      \n",
    "$\\bar{x}$ = Mean of column x.              \n",
    "$y_{i} = i^{th}$ Datapoint in column y.         \n",
    "$\\bar{y}$ = Mean of column y_**\n",
    "\n",
    "![Alt Text](https://www.mathsisfun.com/data/images/correlation-examples.svg \"Correlation\")"
   ]
  },
  {
   "cell_type": "code",
   "execution_count": 11,
   "metadata": {},
   "outputs": [
    {
     "name": "stdout",
     "output_type": "stream",
     "text": [
      "-632225556.0\n",
      "117029124.0\n",
      "3415467364.0\n",
      "-690667556.0\n",
      "139665124.0\n",
      "3415467364.0\n",
      "-836772556.0\n",
      "205005124.0\n",
      "3415467364.0\n",
      "-982877556.0\n",
      "282845124.0\n",
      "3415467364.0\n",
      "-398457556.0\n",
      "46485124.0\n",
      "3415467364.0\n",
      "-632225556.0\n",
      "117029124.0\n",
      "3415467364.0\n",
      "-164689556.0\n",
      "7941124.0\n",
      "3415467364.0\n",
      "69078444.0\n",
      "1397124.0\n",
      "3415467364.0\n",
      "-573783556.0\n",
      "96393124.0\n",
      "3415467364.0\n",
      "-573783556.0\n",
      "96393124.0\n",
      "3415467364.0\n",
      "-47805556.0\n",
      "669124.0\n",
      "3415467364.0\n",
      "361288444.0\n",
      "38217124.0\n",
      "3415467364.0\n",
      "-807551556.0\n",
      "190937124.0\n",
      "3415467364.0\n",
      "-486120556.0\n",
      "69189124.0\n",
      "3415467364.0\n",
      "-515341556.0\n",
      "77757124.0\n",
      "3415467364.0\n",
      "-380924956.0\n",
      "42484324.0\n",
      "3415467364.0\n",
      "69078444.0\n",
      "1397124.0\n",
      "3415467364.0\n",
      "-515341556.0\n",
      "77757124.0\n",
      "3415467364.0\n",
      "-714044356.0\n",
      "149279524.0\n",
      "3415467364.0\n",
      "-340015556.0\n",
      "33849124.0\n",
      "3415467364.0\n",
      "361288444.0\n",
      "38217124.0\n",
      "3415467364.0\n",
      "-223131556.0\n",
      "14577124.0\n",
      "3415467364.0\n",
      "10636444.0\n",
      "33124.0\n",
      "3415467364.0\n",
      "361288444.0\n",
      "38217124.0\n",
      "3415467364.0\n",
      "-398457556.0\n",
      "46485124.0\n",
      "3415467364.0\n",
      "361288444.0\n",
      "38217124.0\n",
      "3415467364.0\n",
      "-632225556.0\n",
      "117029124.0\n",
      "3415467364.0\n",
      "-515341556.0\n",
      "77757124.0\n",
      "3415467364.0\n",
      "-223131556.0\n",
      "14577124.0\n",
      "3415467364.0\n",
      "-398457556.0\n",
      "46485124.0\n",
      "3415467364.0\n",
      "361288444.0\n",
      "38217124.0\n",
      "3415467364.0\n",
      "1237918444.0\n",
      "448677124.0\n",
      "3415467364.0\n",
      "-515341556.0\n",
      "77757124.0\n",
      "3415467364.0\n",
      "185962444.0\n",
      "10125124.0\n",
      "3415467364.0\n",
      "361288444.0\n",
      "38217124.0\n",
      "3415467364.0\n",
      "-223131556.0\n",
      "14577124.0\n",
      "3415467364.0\n",
      "69078444.0\n",
      "1397124.0\n",
      "3415467364.0\n",
      "69078444.0\n",
      "1397124.0\n",
      "3415467364.0\n",
      "1530128444.0\n",
      "685497124.0\n",
      "3415467364.0\n",
      "-515341556.0\n",
      "77757124.0\n",
      "3415467364.0\n",
      "1822338444.0\n",
      "972317124.0\n",
      "3415467364.0\n",
      "69078444.0\n",
      "1397124.0\n",
      "3415467364.0\n",
      "-573783556.0\n",
      "96393124.0\n",
      "3415467364.0\n",
      "69078444.0\n",
      "1397124.0\n",
      "3415467364.0\n",
      "361288444.0\n",
      "38217124.0\n",
      "3415467364.0\n",
      "1705454444.0\n",
      "851589124.0\n",
      "3415467364.0\n",
      "361288444.0\n",
      "38217124.0\n",
      "3415467364.0\n",
      "653498444.0\n",
      "125037124.0\n",
      "3415467364.0\n",
      "1822338444.0\n",
      "972317124.0\n",
      "3415467364.0\n",
      "1237918444.0\n",
      "448677124.0\n",
      "3415467364.0\n"
     ]
    }
   ],
   "source": [
    "for i in df['Mthly_HH_Expense']:\n",
    "    for j in df['Mthly_HH_Income']:\n",
    "        p=0\n",
    "        q=0\n",
    "        r=0\n",
    "        a=df['Mthly_HH_Expense'].mean()\n",
    "        b=df['Mthly_HH_Income'].mean()\n",
    "        p+=((i-a)*(j-b))\n",
    "        q+=(i-a)**2\n",
    "        r+=(j-b)**2\n",
    "#corre = p/((q*r)**0.5)\n",
    "    print (p)\n",
    "    print (q)\n",
    "    print (r)\n",
    "#print(corre)    "
   ]
  },
  {
   "cell_type": "code",
   "execution_count": 12,
   "metadata": {
    "scrolled": true
   },
   "outputs": [
    {
     "name": "stdout",
     "output_type": "stream",
     "text": [
      "1.0\n"
     ]
    }
   ],
   "source": [
    "for i,j in zip(df['Mthly_HH_Expense'],df['Mthly_HH_Income']):\n",
    "    p=0\n",
    "    q=0\n",
    "    r=0\n",
    "    a=df['Mthly_HH_Expense'].mean()\n",
    "    b=df['Mthly_HH_Income'].mean()\n",
    "    p=((i-a)*(j-b))+p\n",
    "    q+=(i-a)**2\n",
    "    r+=(j-b)**2\n",
    "corre = p/((q*r)**0.5)\n",
    "    #print (p)\n",
    "    #print (q)\n",
    "    #print (r)\n",
    "print(corre)    "
   ]
  },
  {
   "cell_type": "markdown",
   "metadata": {},
   "source": [
    "# Normal Distribution\n",
    "\n",
    "Normal distribution, also known as the Gaussian distribution, is a probability distribution that is symmetric about the mean, showing that data near the mean are more frequent in occurrence than data far from the mean. In graph form, normal distribution will appear as a bell curve\n",
    "\n",
    "$$f(x)= {\\frac{1}{\\sigma\\sqrt{2\\pi}}}e^{- {\\frac {1}{2}} (\\frac {x-\\mu}{\\sigma})^2}$$$$f(x) = probability \\  density \\ function$$$$\\sigma = \\ standard \\  deviation$$$$\\mu = mean$$\n",
    "\n",
    "\n",
    "\n",
    "\n",
    "\n",
    "\n",
    "![Alt Text](https://www.simplypsychology.org/normal-distribution.jpg \"Normal Distribution\")"
   ]
  },
  {
   "cell_type": "markdown",
   "metadata": {},
   "source": [
    "# Feature of Normal Distribution\n",
    "\n",
    "## 1. It is symmetric¶\n",
    "A normal distribution comes with a perfectly symmetrical shape. This means that the distribution curve can be divided in the middle to produce two equal halves. The symmetric shape occurs when one-half of the observations fall on each side of the curve.\n",
    "\n",
    "## 2. The mean, median, and mode are equal¶\n",
    "The middle point of a normal distribution is the point with the maximum frequency, which means that it possesses the most observations of the variable. The midpoint is also the point where these three measures fall. The measures are usually equal in a perfectly (normal) distribution.\n",
    "\n",
    "## 3. Empirical rule¶\n",
    "In normally distributed data, there is a constant proportion of distance lying under the curve between the mean and specific number of standard deviations from the mean. For example, 68.25% of all cases fall within +/- one standard deviation from the mean. 95% of all cases fall within +/- two standard deviations from the mean, while 99% of all cases fall within +/- three standard deviations from the mean.\n",
    "\n",
    "## 4. Skewness and kurtosis¶\n",
    "Skewness and kurtosis are coefficients that measure how different a distribution is from a normal distribution. Skewness measures the symmetry of a normal distribution while kurtosis measures the thickness of the tail ends relative to the tails of a normal distribution."
   ]
  },
  {
   "cell_type": "markdown",
   "metadata": {},
   "source": [
    "## Positively Skewed & Negatively Skewed Normal Distribution\n",
    "### Skewed Left (Negative Skew):\n",
    "A left skewed distribution is sometimes called a negatively skewed distribution because it's long tail is on the negative direction on a number line.\n",
    "\n",
    "A common misconception is that the peak of distribution is what defines peakness. In other words, a peak that tends to the left is left skewed distribution. This is incorrect. There are two main things that make a distribution skewed left:\n",
    "\n",
    "The mean is to the left of the peak. This is the main definition behind skewness, which is technically a measure of the distribution of values around the mean. The tail is longer on the left. In most cases, the mean is to the left of the median. This isn't a reliable test for skewness though, as some distributions (i.e. many multimodal distributions) violate this rule. You should think of this as a general idea kind of rule, and not a set-in-stone one.\n",
    "\n",
    "### Right Skewed or Postive Skewed:\n",
    "So, the distribution which is right skewed have a long tail that extends to the right or positive side of the x axis.\n",
    "\n",
    "- Mean greater than the Mode\n",
    "- Median greater than the Mode\n",
    "- Mean greater than Median\n",
    "_The first and second always hold in case of right skewed distribution but third one may not be valid sometimes._\n",
    "\n",
    "\n",
    "![Alt Text](https://cdn.corporatefinanceinstitute.com/assets/skewness2.png \"Normal Distribution\")\n",
    "\n",
    "### Effect on Mean, Median and Mode due to Skewness\n",
    "In a positively skewed distribution the outliers will be pulling the mean down the scale a great deal. The median might be slightly lower due to the outlier, but the mode will be unaffected. Thus, with a negatively skewed distribution the mean is numerically lower than the median or mode"
   ]
  },
  {
   "cell_type": "markdown",
   "metadata": {},
   "source": []
  },
  {
   "cell_type": "markdown",
   "metadata": {},
   "source": []
  },
  {
   "cell_type": "markdown",
   "metadata": {},
   "source": []
  },
  {
   "cell_type": "markdown",
   "metadata": {},
   "source": []
  },
  {
   "cell_type": "code",
   "execution_count": null,
   "metadata": {},
   "outputs": [],
   "source": []
  },
  {
   "cell_type": "code",
   "execution_count": null,
   "metadata": {},
   "outputs": [],
   "source": []
  }
 ],
 "metadata": {
  "kernelspec": {
   "display_name": "Python 3",
   "language": "python",
   "name": "python3"
  },
  "language_info": {
   "codemirror_mode": {
    "name": "ipython",
    "version": 3
   },
   "file_extension": ".py",
   "mimetype": "text/x-python",
   "name": "python",
   "nbconvert_exporter": "python",
   "pygments_lexer": "ipython3",
   "version": "3.7.6"
  }
 },
 "nbformat": 4,
 "nbformat_minor": 4
}
